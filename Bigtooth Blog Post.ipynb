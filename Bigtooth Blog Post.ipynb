{
 "cells": [
  {
   "cell_type": "markdown",
   "metadata": {},
   "source": [
    "# Bigtooth: Using Bluetooth signals to find life patterns\n",
    "Paul Gellerman, Will Sankey"
   ]
  },
  {
   "cell_type": "markdown",
   "metadata": {},
   "source": [
    "# Introduction\n",
    "Bluetooth is one of many signal types that consistently permeate our daily lives. Every individual carrying a smartphone on their person has the ability to broadcast over Bluetooth -- and many individuals are broadcasting without knowing. This Fall 2016 District Data Labs Incubator project used this freely accessible information to assess patterns of life on a reoccurring commute to answer the basic question: how many strangers do I normally commute with?\n",
    "\n",
    "To accomplish this task we captured the timestamp and unique id of bluetooth sources along the same geographic route for 22 days. The project consists of a Raspberry Pi 3 loaded with Blue Hydra(link). It uses a SENA UD100(link) as the bluetooth adapter, the RPI3(link?) onboard wifi, an Ubertooth dongle (not required. We eliminated noise from the dataset and found roughly YY% of the same individuals appeared along the route roughly ZZ% of the time.\n",
    "\n",
    "The following provides snippets of the most critical parts of our code, for the full thing please see our repository here(link).\n"
   ]
  },
  {
   "cell_type": "markdown",
   "metadata": {},
   "source": [
    "## A quick note on legality"
   ]
  },
  {
   "cell_type": "markdown",
   "metadata": {},
   "source": [
    "Protecting sensitive information is important and we have taken steps to obscure the data we collected; at no point was any individual subject to having their particular information leak out. Plus nearly all the information we collected consisted of what kind of device was being used, where it was being used, the time, and a unique Id for the device that allowed us to see individuals across time.\n",
    "\n",
    "In essence the data we collected is very similar in nature to wardriving(https://en.wikipedia.org/wiki/Wardriving):"
   ]
  },
  {
   "cell_type": "markdown",
   "metadata": {},
   "source": [
    "<em>“Identifying the presence of a wireless network may not be a\n",
    "criminal violation, however, there may be criminal violations if the network is actually accessed including theft of services, interception of communications, misuse of computing resources, up to and including violations of the Federal Computer Fraud and Abuse Statute, Theft of Trade Secrets, and other federal violations.”\n",
    "Sending out paging packets would probably cross the line.<em>(link) "
   ]
  },
  {
   "cell_type": "markdown",
   "metadata": {},
   "source": [
    "# Methodology"
   ]
  },
  {
   "cell_type": "markdown",
   "metadata": {},
   "source": [
    "## What is Bluetooth"
   ]
  },
  {
   "cell_type": "markdown",
   "metadata": {},
   "source": [
    "Bluetooth has been a standard feature in smartphone devies since the Iphone 5 (year) and has become ubiquitous in other devices. This data can be made useful in several ways:\n",
    "\n",
    "1. It provides a unique id and identifies individual device;\n",
    "2. It can be coupled with a timestamp\n",
    "3. There are other fields available for capturing"
   ]
  },
  {
   "cell_type": "code",
   "execution_count": 6,
   "metadata": {
    "collapsed": false
   },
   "outputs": [
    {
     "ename": "SyntaxError",
     "evalue": "invalid syntax (<ipython-input-6-0422fae1a0f1>, line 1)",
     "output_type": "error",
     "traceback": [
      "\u001b[0;36m  File \u001b[0;32m\"<ipython-input-6-0422fae1a0f1>\"\u001b[0;36m, line \u001b[0;32m1\u001b[0m\n\u001b[0;31m    BLUETOOTH STATISTICS IMAGE\u001b[0m\n\u001b[0m                       ^\u001b[0m\n\u001b[0;31mSyntaxError\u001b[0m\u001b[0;31m:\u001b[0m invalid syntax\n"
     ]
    }
   ],
   "source": [
    "more information about bluetooth: http://blog.roverlabs.co/post/117195525589/the-straight-goods-on-bluetooth-how-many"
   ]
  },
  {
   "cell_type": "markdown",
   "metadata": {},
   "source": [
    "## How to capture it"
   ]
  },
  {
   "cell_type": "markdown",
   "metadata": {},
   "source": [
    "### The tech\n",
    "Software\n",
    "Blue Hydra\n",
    "Python scripts\n",
    "Bluez\n",
    "Raspian\n",
    "\n",
    "Hardware\n",
    "Raspberry Pi 3\n",
    "SENA Bluetooth adapter\n",
    "Ubertooth\n",
    "Battery Pack\n",
    "Really Big Antenna\n"
   ]
  },
  {
   "cell_type": "markdown",
   "metadata": {},
   "source": [
    "### The route\n",
    "A map."
   ]
  },
  {
   "cell_type": "code",
   "execution_count": null,
   "metadata": {
    "collapsed": true
   },
   "outputs": [],
   "source": [
    "## How to clean it"
   ]
  },
  {
   "cell_type": "code",
   "execution_count": null,
   "metadata": {
    "collapsed": true
   },
   "outputs": [],
   "source": [
    "Once all the data was collected we use a SQL database approach.."
   ]
  },
  {
   "cell_type": "code",
   "execution_count": null,
   "metadata": {
    "collapsed": true
   },
   "outputs": [],
   "source": [
    "CODE SNIPPETS"
   ]
  },
  {
   "cell_type": "code",
   "execution_count": null,
   "metadata": {
    "collapsed": true
   },
   "outputs": [],
   "source": [
    "# Analysis"
   ]
  },
  {
   "cell_type": "code",
   "execution_count": null,
   "metadata": {
    "collapsed": true
   },
   "outputs": [],
   "source": []
  },
  {
   "cell_type": "code",
   "execution_count": null,
   "metadata": {
    "collapsed": true
   },
   "outputs": [],
   "source": [
    "# Discussion"
   ]
  },
  {
   "cell_type": "code",
   "execution_count": null,
   "metadata": {
    "collapsed": true
   },
   "outputs": [],
   "source": []
  },
  {
   "cell_type": "code",
   "execution_count": null,
   "metadata": {
    "collapsed": true
   },
   "outputs": [],
   "source": [
    "## Other uses, future research"
   ]
  },
  {
   "cell_type": "code",
   "execution_count": null,
   "metadata": {
    "collapsed": true
   },
   "outputs": [],
   "source": [
    "\n",
    "Beacon market research.  Determine protocol adoption.\n",
    "Device market research.  See how many and what type of devices are in an area.\n",
    "Traffic monitoring.  If it can be determined the percentage of people who hold BT devices we can make general population conclusions about the number of people based on devices seen.\n",
    "People tracking.  \n",
    "\tStation devices along key routes.  \n",
    "\tWalk down a hotel room corridor and narrow down where they are.  \n",
    "Attack Surface Mapping - find out what BT devices are around you.\n"
   ]
  }
 ],
 "metadata": {
  "kernelspec": {
   "display_name": "Python 2",
   "language": "python",
   "name": "python2"
  },
  "language_info": {
   "codemirror_mode": {
    "name": "ipython",
    "version": 2
   },
   "file_extension": ".py",
   "mimetype": "text/x-python",
   "name": "python",
   "nbconvert_exporter": "python",
   "pygments_lexer": "ipython2",
   "version": "2.7.10"
  }
 },
 "nbformat": 4,
 "nbformat_minor": 0
}
