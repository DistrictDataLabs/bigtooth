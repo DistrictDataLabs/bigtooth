{
 "cells": [
  {
   "cell_type": "code",
   "execution_count": 5,
   "metadata": {
    "collapsed": false
   },
   "outputs": [
    {
     "name": "stdout",
     "output_type": "stream",
     "text": [
      "blue_hydra.db.2016-10-12_H18M59\n",
      "5\n",
      "blue_hydra.db.2016-10-14_H15M22\n",
      "354\n",
      "blue_hydra.db.2016-10-17_H07M50\n",
      "361\n",
      "blue_hydra.db.2016-10-25_H16M15\n",
      "475\n",
      "blue_hydra.db.2016-10-26_H08M00\n",
      "564\n",
      "blue_hydra.db.2016-10-14_H19M43\n",
      "653\n",
      "blue_hydra.db.2016-10-20_H07M51\n",
      "681\n",
      "blue_hydra.db.2016-10-12_H15M35\n",
      "782\n",
      "blue_hydra.db.2016-11-04_H18M51\n",
      "877\n",
      "blue_hydra.db.2016-10-26_H07M35\n",
      "991\n",
      "blue_hydra.db.2016-10-17_H19M26\n",
      "1092\n",
      "blue_hydra.db.2016-10-25_H07M46\n",
      "1183\n",
      "blue_hydra.db.2016-10-17_H16M23\n",
      "1314\n",
      "blue_hydra.db.2016-11-08_H15M56\n",
      "1421\n",
      "blue_hydra.db.2016-10-19_H07M28\n",
      "1525\n",
      "blue_hydra.db.2016-11-02_H17M38\n",
      "1650\n",
      "blue_hydra.db.2016-11-07_H07M22\n",
      "1650\n",
      "blue_hydra.db.2016-10-14_H10M22\n",
      "1650\n",
      "blue_hydra.db.2016-11-06_H20M47\n",
      "1651\n",
      "blue_hydra.db.2016-10-20_H18M17\n",
      "1780\n",
      "blue_hydra.db.2016-10-27_H07M50\n",
      "1844\n",
      "blue_hydra.db.2016-11-06_H20M32\n",
      "1844\n",
      "blue_hydra.db.2016-10-18_H07M32\n",
      "1851\n",
      "blue_hydra.db.2016-11-04_H14M24\n",
      "1968\n",
      "blue_hydra.db.2016-10-13_H10M50\n",
      "2142\n",
      "blue_hydra.db.2016-10-13_H19M33\n",
      "2970\n",
      "blue_hydra.db.2016-11-04_H07M40\n",
      "2972\n",
      "blue_hydra.db.2016-10-28_H09M02\n",
      "3112\n",
      "blue_hydra.db.2016-11-06_H20M48\n",
      "3112\n",
      "blue_hydra.db.2016-10-19_H10M30\n",
      "3254\n",
      "blue_hydra.db.2016-11-07_H15M34\n",
      "3353\n",
      "blue_hydra.db.2016-11-08_H19M58\n",
      "3399\n",
      "blue_hydra.db.2016-10-12_H08M10\n",
      "3403\n",
      "blue_hydra.db.2016-10-18_H13M24\n",
      "3549\n",
      "blue_hydra.db.2016-11-08_H07M39\n",
      "3654\n"
     ]
    }
   ],
   "source": [
    "from wrangle import *\n",
    "import seaborn as sns\n",
    "import matplotlib.pyplot as plt\n",
    "\n",
    "def barplot(count):\n",
    "    plot = sns.barplot(x = count.columns[0], y = count.columns[1], data = count)\n",
    "    #plot.set_xticklabels(rotation = 45)\n",
    "    return(plot)\n",
    "\n",
    "def selecthour(df, starthour = 12, endhour = 19, col ='created_at'):\n",
    "    sub = df[np.logical_and(df[col].dt.hour >= starthour, df[col].dt.hour <= endhour)]\n",
    "    return(sub)\n",
    "\n",
    "def selectday(df, startday = 8, endday = 8, col ='created_at'):\n",
    "    sub = df[np.logical_and(df[col].dt.day >= startday, df[col].dt.day <= endday)]\n",
    "    return(sub)\n",
    "\n",
    "def selectmonth(df, startmonth = 11, endmonth = 11, col ='created_at'):\n",
    "    sub = df[np.logical_and(df[col].dt.month >= startmonth, df[col].dt.month <= endmonth)]\n",
    "    return(sub)\n",
    "\n",
    "def selectweekdays(df, startday = 0, endday = 4, col = 'created_at'):\n",
    "    sub = df[np.logical_and(df[col].dt.weekday >= startday, df[col].dt.weekday <= endday)]\n",
    "    return(sub)"
   ]
  },
  {
   "cell_type": "code",
   "execution_count": 6,
   "metadata": {
    "collapsed": false
   },
   "outputs": [],
   "source": [
    "def getbigtooth():\n",
    "    #Pick out weekdaytrips from my commute\n",
    "    sub = selecthour(df,6,8)\n",
    "    sub = selectweekdays(sub)\n",
    "    cleanCat(sub)\n",
    "    return(sub)\n",
    "\n",
    "bt = getbigtooth()"
   ]
  },
  {
   "cell_type": "code",
   "execution_count": null,
   "metadata": {
    "collapsed": false,
    "scrolled": true
   },
   "outputs": [],
   "source": [
    "bt['day'] = bt['created_at'].dt.day\n",
    "\n",
    "hm = pd.pivot_table(bt,index=['uap_lap','name'],values='uuid',columns='day',aggfunc=len)\n",
    "\n",
    "a4_dims=(10.5,50)\n",
    "fig, ax = plt.subplots()\n",
    "fig.set_size_inches(a4_dims)\n",
    "\n",
    "g = sns.heatmap(hm,cmap='viridis',ax=ax)\n",
    "g.set_yticklabels(g.get_yticklabels(),rotation=0)\n",
    "\n",
    "#fig = plt.gcf()\n",
    "#fig.set_size_inches(20,5)\n",
    "plt.show()"
   ]
  },
  {
   "cell_type": "code",
   "execution_count": null,
   "metadata": {
    "collapsed": false
   },
   "outputs": [],
   "source": [
    "bt.head()"
   ]
  }
 ],
 "metadata": {
  "kernelspec": {
   "display_name": "Python 3",
   "language": "python",
   "name": "python3"
  },
  "language_info": {
   "codemirror_mode": {
    "name": "ipython",
    "version": 3
   },
   "file_extension": ".py",
   "mimetype": "text/x-python",
   "name": "python",
   "nbconvert_exporter": "python",
   "pygments_lexer": "ipython3",
   "version": "3.4.3"
  }
 },
 "nbformat": 4,
 "nbformat_minor": 1
}
